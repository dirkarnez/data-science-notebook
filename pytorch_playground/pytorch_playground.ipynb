{
  "cells": [
    {
      "cell_type": "code",
      "source": [
        "!wget https://repo.anaconda.com/archive/Anaconda3-2021.11-Linux-x86_64.sh -O ~/Anaconda3-2021.11-Linux-x86_64.sh\n",
        "!bash ~/Anaconda3-2021.11-Linux-x86_64.sh"
      ],
      "metadata": {
        "id": "7z07mlgtDbue",
        "outputId": "7c8de93d-7274-4343-82ec-b456821a9753",
        "colab": {
          "base_uri": "https://localhost:8080/"
        }
      },
      "id": "7z07mlgtDbue",
      "execution_count": null,
      "outputs": [
        {
          "output_type": "stream",
          "name": "stdout",
          "text": [
            "--2021-12-20 04:18:47--  https://repo.anaconda.com/archive/Anaconda3-2021.11-Linux-x86_64.sh\n",
            "Resolving repo.anaconda.com (repo.anaconda.com)... 104.16.130.3, 104.16.131.3, 2606:4700::6810:8303, ...\n",
            "Connecting to repo.anaconda.com (repo.anaconda.com)|104.16.130.3|:443... connected.\n",
            "HTTP request sent, awaiting response... 200 OK\n",
            "Length: 608680744 (580M) [application/x-sh]\n",
            "Saving to: ‘/root//Anaconda3-2021.11-Linux-x86_64.sh’\n",
            "\n",
            "/root//Anaconda3-20 100%[===================>] 580.48M   126MB/s    in 4.8s    \n",
            "\n",
            "2021-12-20 04:18:52 (121 MB/s) - ‘/root//Anaconda3-2021.11-Linux-x86_64.sh’ saved [608680744/608680744]\n",
            "\n",
            "\n",
            "Welcome to Anaconda3 2021.11\n",
            "\n",
            "In order to continue the installation process, please review the license\n",
            "agreement.\n",
            "Please, press ENTER to continue\n",
            ">>> \n",
            "===================================\n",
            "End User License Agreement - Anaconda Individual Edition\n",
            "===================================\n",
            "\n",
            "Copyright 2015-2021, Anaconda, Inc.\n",
            "\n",
            "All rights reserved under the 3-clause BSD License:\n",
            "\n",
            "This End User License Agreement (the \"Agreement\") is a legal agreement between y\n",
            "ou and Anaconda, Inc. (\"Anaconda\") and governs your use of Anaconda Individual E\n",
            "dition (which was formerly known as Anaconda Distribution).\n",
            "\n",
            "Subject to the terms of this Agreement, Anaconda hereby grants you a non-exclusi\n",
            "ve, non-transferable license to:\n",
            "\n",
            "  * Install and use the Anaconda Individual Edition (which was formerly known as\n",
            " Anaconda Distribution),\n",
            "  * Modify and create derivative works of sample source code delivered in Anacon\n",
            "da Individual Edition from Anaconda's repository; and\n",
            "  * Redistribute code files in source (if provided to you by Anaconda as source)\n",
            " and binary forms, with or without modification subject to the requirements set \n",
            "forth below.\n",
            "\n",
            "Anaconda may, at its option, make available patches, workarounds or other update\n",
            "s to Anaconda Individual Edition. Unless the updates are provided with their sep\n",
            "arate governing terms, they are deemed part of Anaconda Individual Edition licen\n",
            "\u001b[7m--More--\u001b[m"
          ]
        }
      ]
    },
    {
      "cell_type": "code",
      "execution_count": null,
      "id": "d87585df",
      "metadata": {
        "id": "d87585df"
      },
      "outputs": [],
      "source": [
        "import sys\n",
        "!conda install  --yes --prefix {sys.prefix} pytorch torchvision torchaudio cpuonly -c pytorch"
      ]
    },
    {
      "cell_type": "code",
      "execution_count": null,
      "id": "5d4801af",
      "metadata": {
        "id": "5d4801af",
        "outputId": "4dabe7c3-22e3-46a6-970e-a6fb5d4006f5"
      },
      "outputs": [
        {
          "name": "stdout",
          "output_type": "stream",
          "text": [
            "tensor([[2.0441e-33, 3.0747e-41, 2.0439e-33],\n",
            "        [3.0747e-41, 8.9683e-44, 0.0000e+00]])\n",
            "tensor([2., 3., 4., 5.])\n"
          ]
        }
      ],
      "source": [
        "import torch\n",
        "a = torch.FloatTensor(2, 3)\n",
        "b = torch.FloatTensor([2, 3, 4, 5])\n",
        "print(a)\n",
        "print(b)"
      ]
    },
    {
      "cell_type": "code",
      "execution_count": 1,
      "id": "0611533b",
      "metadata": {
        "id": "0611533b",
        "outputId": "8022b0f1-af59-48ec-c5ee-a8265707e212",
        "colab": {
          "base_uri": "https://localhost:8080/",
          "height": 229
        }
      },
      "outputs": [
        {
          "output_type": "error",
          "ename": "NameError",
          "evalue": "ignored",
          "traceback": [
            "\u001b[0;31m---------------------------------------------------------------------------\u001b[0m",
            "\u001b[0;31mNameError\u001b[0m                                 Traceback (most recent call last)",
            "\u001b[0;32m<ipython-input-1-b9f7bbe2efe1>\u001b[0m in \u001b[0;36m<module>\u001b[0;34m()\u001b[0m\n\u001b[1;32m      4\u001b[0m \u001b[0moutput_data\u001b[0m \u001b[0;34m=\u001b[0m \u001b[0;36m10\u001b[0m     \u001b[0;31m# the number of classification\u001b[0m\u001b[0;34m\u001b[0m\u001b[0;34m\u001b[0m\u001b[0m\n\u001b[1;32m      5\u001b[0m \u001b[0;34m\u001b[0m\u001b[0m\n\u001b[0;32m----> 6\u001b[0;31m \u001b[0mx\u001b[0m \u001b[0;34m=\u001b[0m \u001b[0mtorch\u001b[0m\u001b[0;34m.\u001b[0m\u001b[0mrandn\u001b[0m\u001b[0;34m(\u001b[0m\u001b[0mbatch_n\u001b[0m\u001b[0;34m,\u001b[0m \u001b[0minput_data\u001b[0m\u001b[0;34m)\u001b[0m\u001b[0;34m\u001b[0m\u001b[0;34m\u001b[0m\u001b[0m\n\u001b[0m\u001b[1;32m      7\u001b[0m \u001b[0my\u001b[0m \u001b[0;34m=\u001b[0m \u001b[0mtorch\u001b[0m\u001b[0;34m.\u001b[0m\u001b[0mrandn\u001b[0m\u001b[0;34m(\u001b[0m\u001b[0mbatch_n\u001b[0m\u001b[0;34m,\u001b[0m \u001b[0moutput_data\u001b[0m\u001b[0;34m)\u001b[0m\u001b[0;34m\u001b[0m\u001b[0;34m\u001b[0m\u001b[0m\n\u001b[1;32m      8\u001b[0m \u001b[0;34m\u001b[0m\u001b[0m\n",
            "\u001b[0;31mNameError\u001b[0m: name 'torch' is not defined"
          ]
        }
      ],
      "source": [
        "batch_n = 100        # the number of input data in a batch\n",
        "hidden_layer = 100   # the number of pattern remains after hidden layer\n",
        "input_data = 1000    # the number of pattern for each data\n",
        "output_data = 10     # the number of classification\n",
        "\n",
        "x = torch.randn(batch_n, input_data)\n",
        "y = torch.randn(batch_n, output_data)\n",
        "\n",
        "w1 = torch.randn(input_data, hidden_layer)\n",
        "w2 = torch.randn(hidden_layer, output_data)\n",
        "\n",
        "epoch_n = 20\n",
        "learning_rate = 1e-6\n",
        "\n",
        "for epoch in range (epoch_n):\n",
        "    h1 = x.mm(w1)             # 100 * 1000\n",
        "    h1 = h1.clamp(min = 0)\n",
        "    y_pred = h1.mm(w2)        #100 * 10\n",
        "    \n",
        "    loss = (y_pred - y).pow(2).sum()\n",
        "    print(\"Epoch:{}, Loss:{:.4f}\".format(epoch, loss))\n",
        "\n",
        "    grad_y_pred = 2 * (y_pred-y)\n",
        "    grad_w2 = h1.t().mm(grad_y_pred)\n",
        "\n",
        "    grad_h = grad_y_pred.clone()\n",
        "    grad_h = grad_h.mm(w2.t())\n",
        "    grad_h.clamp(min = 0)\n",
        "    grad_w1 = x.t().mm(grad_h)\n",
        "\n",
        "    w1 -= learning_rate * grad_w1\n",
        "    w2 -= learning_rate * grad_w2"
      ]
    },
    {
      "cell_type": "code",
      "execution_count": null,
      "id": "55ec2215",
      "metadata": {
        "id": "55ec2215"
      },
      "outputs": [],
      "source": [
        ""
      ]
    }
  ],
  "metadata": {
    "kernelspec": {
      "display_name": "Python 3 (ipykernel)",
      "language": "python",
      "name": "python3"
    },
    "language_info": {
      "codemirror_mode": {
        "name": "ipython",
        "version": 3
      },
      "file_extension": ".py",
      "mimetype": "text/x-python",
      "name": "python",
      "nbconvert_exporter": "python",
      "pygments_lexer": "ipython3",
      "version": "3.9.7"
    },
    "colab": {
      "name": "pytorch_playground.ipynb",
      "provenance": []
    }
  },
  "nbformat": 4,
  "nbformat_minor": 5
}